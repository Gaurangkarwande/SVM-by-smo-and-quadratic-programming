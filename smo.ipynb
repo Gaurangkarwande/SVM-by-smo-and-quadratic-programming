{
 "cells": [
  {
   "cell_type": "code",
   "execution_count": 1,
   "metadata": {},
   "outputs": [
    {
     "data": {
      "image/png": "[encoded data removed]",
      "text/plain": [
       "<Figure size 432x288 with 1 Axes>"
      ]
     },
     "metadata": {
      "needs_background": "light"
     },
     "output_type": "display_data"
    }
   ],
   "source": [
    "import numpy as np\n",
    "import time\n",
    "import matplotlib.pyplot as plt\n",
    "\n",
    "from load_data import load_data\n",
    "\n",
    "X,y = load_data('data.txt')\n",
    "plt.plot(X[np.where(y==1)[0], 0], X[np.where(y==1)[0], 1], 'rx')\n",
    "plt.plot(X[np.where(y==-1)[0], 0], X[np.where(y==-1)[0], 1], 'bo')\n",
    "plt.show()"
   ]
  },
  {
   "cell_type": "code",
   "execution_count": 2,
   "metadata": {
    "pycharm": {
     "name": "#%%\n"
    }
   },
   "outputs": [
    {
     "name": "stdout",
     "output_type": "stream",
     "text": [
      "x shape (8, 2)\n",
      "y shape (8, 1)\n",
      "\n",
      "For iteration 1 alpha is: \n",
      " [[0. ]\n",
      " [0. ]\n",
      " [0. ]\n",
      " [0. ]\n",
      " [0.4]\n",
      " [0. ]\n",
      " [0. ]\n",
      " [0. ]]\n",
      "\n",
      "For iteration 2 alpha is: \n",
      " [[0. ]\n",
      " [0. ]\n",
      " [0. ]\n",
      " [0. ]\n",
      " [0.9]\n",
      " [0. ]\n",
      " [0. ]\n",
      " [0. ]]\n",
      "\n",
      "For iteration 3 alpha is: \n",
      " [[0.1 ]\n",
      " [0.34]\n",
      " [0.  ]\n",
      " [0.  ]\n",
      " [1.  ]\n",
      " [1.  ]\n",
      " [0.  ]\n",
      " [0.  ]]\n",
      "\n",
      "For iteration 4 alpha is: \n",
      " [[0.38]\n",
      " [0.  ]\n",
      " [0.  ]\n",
      " [0.  ]\n",
      " [1.  ]\n",
      " [1.  ]\n",
      " [0.  ]\n",
      " [0.  ]]\n",
      "\n",
      "For iteration 5 alpha is: \n",
      " [[0.69      ]\n",
      " [0.        ]\n",
      " [0.        ]\n",
      " [0.11923077]\n",
      " [1.        ]\n",
      " [1.        ]\n",
      " [0.26676923]\n",
      " [0.        ]]\n",
      "\n",
      "For iteration 6 alpha is: \n",
      " [[0.69      ]\n",
      " [0.        ]\n",
      " [0.        ]\n",
      " [0.655     ]\n",
      " [0.26676923]\n",
      " [0.96088462]\n",
      " [0.26676923]\n",
      " [0.        ]]\n",
      "\n",
      "For iteration 7 alpha is: \n",
      " [[0.69      ]\n",
      " [0.        ]\n",
      " [0.        ]\n",
      " [0.42370769]\n",
      " [0.26676923]\n",
      " [1.        ]\n",
      " [0.42153077]\n",
      " [0.        ]]\n",
      "\n",
      "For iteration 8 alpha is: \n",
      " [[1.        ]\n",
      " [0.        ]\n",
      " [0.07629231]\n",
      " [0.42370769]\n",
      " [0.26676923]\n",
      " [1.        ]\n",
      " [0.6883    ]\n",
      " [0.        ]]\n",
      "\n",
      "For iteration 9 alpha is: \n",
      " [[1.        ]\n",
      " [0.        ]\n",
      " [0.07629231]\n",
      " [0.42370769]\n",
      " [0.26676923]\n",
      " [1.        ]\n",
      " [0.6883    ]\n",
      " [0.        ]]\n",
      "\n",
      "\n",
      "time taken to find solution 0.019887447357177734\n"
     ]
    }
   ],
   "source": [
    "from smo import SMO\n",
    "t = time.time()\n",
    "model = SMO(max_iter=10000, kernel_type='linear', C=1.0, tol=0.001)\n",
    "support_vectors, count, alpha = model.fit(X, y)\n",
    "print('\\n')\n",
    "elapsed = time.time() - t\n",
    "print('time taken to find solution', elapsed)"
   ]
  },
  {
   "cell_type": "code",
   "execution_count": 3,
   "metadata": {
    "pycharm": {
     "name": "#%%\n"
    }
   },
   "outputs": [
    {
     "name": "stdout",
     "output_type": "stream",
     "text": [
      "Final hyper plane parameters - \n",
      "W:  [-1.         -0.73540769] and b: 1.2427038461538458\n",
      "Number of support vectors:  6\n"
     ]
    }
   ],
   "source": [
    "w = model.calc_w(alpha, y, X)\n",
    "bias = model.calc_b(X, y, w)\n",
    "print('Final hyper plane parameters - ')\n",
    "print('W: ', w.T[0], 'and b:', bias)\n",
    "print('Number of support vectors: ', count)"
   ]
  },
  {
   "cell_type": "code",
   "execution_count": 4,
   "metadata": {
    "pycharm": {
     "name": "#%%\n"
    }
   },
   "outputs": [
    {
     "data": {
      "image/png": "[encoded data removed]",
      "text/plain": [
       "<Figure size 432x288 with 1 Axes>"
      ]
     },
     "metadata": {
      "needs_background": "light"
     },
     "output_type": "display_data"
    }
   ],
   "source": [
    "X,y = load_data('data.txt')\n",
    "plt.plot(X[np.where(y==1)[0], 0], X[np.where(y==1)[0], 1], 'rx')\n",
    "plt.plot(X[np.where(y==-1)[0], 0], X[np.where(y==-1)[0], 1], 'bo')\n",
    "x1, x2 = np.min(X[:,1]), np.max(X[:,1])\n",
    "y1 = -w[0]/w[1] * x1 - bias/w[1]\n",
    "y2 = -w[0]/w[1] * x2 - bias/w[1]\n",
    "plt.plot([x1, x2], [y1,y2], color='green')\n",
    "plt.show()"
   ]
  }
 ],
 "metadata": {
  "kernelspec": {
   "display_name": "Python 3",
   "language": "python",
   "name": "python3"
  },
  "language_info": {
   "codemirror_mode": {
    "name": "ipython",
    "version": 3
   },
   "file_extension": ".py",
   "mimetype": "text/x-python",
   "name": "python",
   "nbconvert_exporter": "python",
   "pygments_lexer": "ipython3",
   "version": "3.8.7"
  }
 },
 "nbformat": 4,
 "nbformat_minor": 1
}