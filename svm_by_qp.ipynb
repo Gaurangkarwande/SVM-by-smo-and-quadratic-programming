{
 "cells": [
  {
   "cell_type": "code",
   "execution_count": 1,
   "metadata": {},
   "outputs": [],
   "source": [
    "import time\n",
    "import numpy as np\n",
    "from cvxopt import matrix, solvers\n",
    "import matplotlib.pyplot as plt\n",
    "\n",
    "from load_data import load_data"
   ]
  },
  {
   "cell_type": "code",
   "execution_count": 2,
   "metadata": {
    "pycharm": {
     "name": "#%%\n"
    }
   },
   "outputs": [],
   "source": [
    "X,y = load_data('data.txt')\n",
    "\n"
   ]
  },
  {
   "cell_type": "code",
   "execution_count": 3,
   "metadata": {
    "pycharm": {
     "name": "#%%\n"
    }
   },
   "outputs": [
    {
     "data": {
      "image/png": "[encoded data removed]",
      "text/plain": [
       "<Figure size 432x288 with 1 Axes>"
      ]
     },
     "metadata": {
      "needs_background": "light"
     },
     "output_type": "display_data"
    }
   ],
   "source": [
    "plt.plot(X[np.where(y==1)[0], 0], X[np.where(y==1)[0], 1], 'rx')\n",
    "plt.plot(X[np.where(y==-1)[0], 0], X[np.where(y==-1)[0], 1], 'bo')\n",
    "plt.xlabel('x2')\n",
    "plt.ylabel('x1')\n",
    "plt.show()"
   ]
  },
  {
   "cell_type": "code",
   "execution_count": 4,
   "metadata": {
    "pycharm": {
     "name": "#%%\n"
    }
   },
   "outputs": [],
   "source": [
    "t = time.time()\n",
    "C = 1\n",
    "m,n = X.shape\n",
    "P = np.zeros((m,m))\n",
    "for i in range(m):\n",
    "    for j in range(m):\n",
    "        if i == j:\n",
    "            P[i,j] = y[i,:] * y[j,:] * np.dot(X[i, :].T, X[j,:])\n",
    "            continue\n",
    "        P[i,j] = 0.5 * y[i,:] * y[j,:] * np.dot(X[i, :].T, X[j,:])\n",
    "P = matrix(P)"
   ]
  },
  {
   "cell_type": "code",
   "execution_count": 5,
   "metadata": {
    "pycharm": {
     "name": "#%%\n"
    }
   },
   "outputs": [],
   "source": [
    "q = -np.ones((m,1))\n",
    "q = matrix(q,(m,1), 'd')"
   ]
  },
  {
   "cell_type": "code",
   "execution_count": 6,
   "metadata": {
    "pycharm": {
     "name": "#%%\n"
    }
   },
   "outputs": [],
   "source": [
    "g1 = np.eye(m)\n",
    "g2 = -np.eye(m)\n",
    "g = np.concatenate((g1, g2), axis = 0)\n",
    "G = matrix(g)"
   ]
  },
  {
   "cell_type": "code",
   "execution_count": 7,
   "metadata": {
    "pycharm": {
     "name": "#%%\n"
    }
   },
   "outputs": [],
   "source": [
    "h1 = C * np.ones((m,1))\n",
    "h2 = np.zeros((m,1))\n",
    "h = np.concatenate((h1, h2), axis = 0)\n",
    "h = matrix(h)\n",
    "A = matrix(y.T, (1,8), 'd')\n",
    "b = matrix(0.0)"
   ]
  },
  {
   "cell_type": "code",
   "execution_count": 8,
   "metadata": {
    "pycharm": {
     "name": "#%%\n"
    }
   },
   "outputs": [
    {
     "name": "stdout",
     "output_type": "stream",
     "text": [
      "     pcost       dcost       gap    pres   dres\n",
      " 0: -1.5633e+00 -1.3068e+01  4e+01  2e+00  4e-16\n",
      " 1: -1.3162e+00 -6.7149e+00  5e+00  3e-16  3e-16\n",
      " 2: -1.5629e+00 -2.0804e+00  5e-01  2e-16  3e-16\n",
      " 3: -1.6785e+00 -1.7337e+00  6e-02  2e-16  2e-16\n",
      " 4: -1.7011e+00 -1.7051e+00  4e-03  2e-16  3e-16\n",
      " 5: -1.7033e+00 -1.7037e+00  3e-04  2e-16  3e-16\n",
      " 6: -1.7036e+00 -1.7036e+00  2e-05  2e-16  2e-16\n",
      " 7: -1.7036e+00 -1.7036e+00  2e-07  2e-16  2e-16\n",
      "Optimal solution found.\n",
      "[ 1.00e+00]\n",
      "[ 3.57e-02]\n",
      "[ 3.93e-01]\n",
      "[ 1.86e-01]\n",
      "[ 1.32e-05]\n",
      "[ 1.00e+00]\n",
      "[ 6.14e-01]\n",
      "[ 1.09e-09]\n",
      "\n"
     ]
    }
   ],
   "source": [
    "sol=solvers.qp(P, q, G, h, A, b)\n",
    "print(sol['x'])"
   ]
  },
  {
   "cell_type": "code",
   "execution_count": 9,
   "metadata": {
    "pycharm": {
     "name": "#%%\n"
    }
   },
   "outputs": [
    {
     "name": "stdout",
     "output_type": "stream",
     "text": [
      "time taken  0.09092855453491211\n"
     ]
    }
   ],
   "source": [
    "elapsed = time.time() - t\n",
    "print('time taken ', elapsed)"
   ]
  },
  {
   "cell_type": "code",
   "execution_count": 10,
   "metadata": {
    "pycharm": {
     "name": "#%%\n"
    }
   },
   "outputs": [],
   "source": [
    "alpha = np.array(sol['x'])\n",
    "w = np.sum(alpha * y * X, axis=0)\n",
    "bias = np.mean(y - np.dot(X, w.T))"
   ]
  },
  {
   "cell_type": "code",
   "execution_count": 11,
   "metadata": {
    "pycharm": {
     "name": "#%%\n"
    }
   },
   "outputs": [
    {
     "name": "stdout",
     "output_type": "stream",
     "text": [
      "Final hyper plane parameters - \n",
      "W:  [-1.22857596 -0.6428666 ] and b: 1.3964372666199916\n",
      "Number of support vectors:  8\n"
     ]
    }
   ],
   "source": [
    "print('Final hyper plane parameters - ')\n",
    "print('W: ', w.T, 'and b:', bias)\n",
    "print('Number of support vectors: ', len(alpha))"
   ]
  },
  {
   "cell_type": "code",
   "execution_count": 12,
   "metadata": {
    "pycharm": {
     "name": "#%%\n"
    }
   },
   "outputs": [
    {
     "data": {
      "image/png": "[encoded data removed]",
      "text/plain": [
       "<Figure size 432x288 with 1 Axes>"
      ]
     },
     "metadata": {
      "needs_background": "light"
     },
     "output_type": "display_data"
    }
   ],
   "source": [
    "plt.plot(X[np.where(y==1)[0], 0], X[np.where(y==1)[0], 1], 'rx')\n",
    "plt.plot(X[np.where(y==-1)[0], 0], X[np.where(y==-1)[0], 1], 'bo')\n",
    "x1, x2 = np.min(X[:,1]), np.max(X[:,1])\n",
    "y1 = -w[0]/w[1] * x1 - bias/w[1]\n",
    "y2 = -w[0]/w[1] * x2 - bias/w[1]\n",
    "plt.plot([x1, x2], [y1,y2], color='green')\n",
    "plt.show()"
   ]
  }
 ],
 "metadata": {
  "kernelspec": {
   "display_name": "Python 3",
   "language": "python",
   "name": "python3"
  },
  "language_info": {
   "codemirror_mode": {
    "name": "ipython",
    "version": 3
   },
   "file_extension": ".py",
   "mimetype": "text/x-python",
   "name": "python",
   "nbconvert_exporter": "python",
   "pygments_lexer": "ipython3",
   "version": "3.8.7"
  }
 },
 "nbformat": 4,
 "nbformat_minor": 1
}